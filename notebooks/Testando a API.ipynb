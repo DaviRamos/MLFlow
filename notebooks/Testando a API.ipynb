{
 "cells": [
  {
   "cell_type": "code",
   "execution_count": 7,
   "id": "absent-diagram",
   "metadata": {},
   "outputs": [],
   "source": [
    "import requests"
   ]
  },
  {
   "cell_type": "code",
   "execution_count": 13,
   "id": "interesting-smoke",
   "metadata": {},
   "outputs": [],
   "source": [
    "url = 'http://127.0.0.1:5001/invocations'"
   ]
  },
  {
   "cell_type": "code",
   "execution_count": 14,
   "id": "adopted-delivery",
   "metadata": {},
   "outputs": [],
   "source": [
    "data = {\n",
    "    \"columns\":[\"tamanho\",\"ano\",\"garagem\"],\n",
    "    \"data\":[[159.0,2003,2]]\n",
    "}"
   ]
  },
  {
   "cell_type": "code",
   "execution_count": 15,
   "id": "marine-cuisine",
   "metadata": {},
   "outputs": [],
   "source": [
    "header = {'Content-Type':'application/json'}"
   ]
  },
  {
   "cell_type": "code",
   "execution_count": 18,
   "id": "figured-vatican",
   "metadata": {},
   "outputs": [
    {
     "data": {
      "text/plain": [
       "<Response [200]>"
      ]
     },
     "execution_count": 18,
     "metadata": {},
     "output_type": "execute_result"
    }
   ],
   "source": [
    "response = requests.post(url,json=data,headers=header)\n",
    "response"
   ]
  },
  {
   "cell_type": "code",
   "execution_count": 17,
   "id": "ecological-speaking",
   "metadata": {},
   "outputs": [
    {
     "data": {
      "text/plain": [
       "'[202609.09375]'"
      ]
     },
     "execution_count": 17,
     "metadata": {},
     "output_type": "execute_result"
    }
   ],
   "source": [
    "response.text"
   ]
  },
  {
   "cell_type": "code",
   "execution_count": null,
   "id": "opponent-people",
   "metadata": {},
   "outputs": [],
   "source": []
  }
 ],
 "metadata": {
  "kernelspec": {
   "display_name": "Python 3",
   "language": "python",
   "name": "python3"
  },
  "language_info": {
   "codemirror_mode": {
    "name": "ipython",
    "version": 3
   },
   "file_extension": ".py",
   "mimetype": "text/x-python",
   "name": "python",
   "nbconvert_exporter": "python",
   "pygments_lexer": "ipython3",
   "version": "3.8.8"
  }
 },
 "nbformat": 4,
 "nbformat_minor": 5
}
