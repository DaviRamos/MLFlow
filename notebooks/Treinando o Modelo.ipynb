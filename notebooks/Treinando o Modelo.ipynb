{
 "cells": [
  {
   "cell_type": "code",
   "execution_count": 1,
   "id": "362e5997-17be-4db8-aaf6-1e046344f604",
   "metadata": {},
   "outputs": [],
   "source": [
    "import pandas as pd\n",
    "import mlflow\n",
    "import mlflow.sklearn\n",
    "# warnings.filterwarnings(\"ignore\", category=DeprecationWarning)"
   ]
  },
  {
   "cell_type": "code",
   "execution_count": 2,
   "id": "951bb622-28df-4a2d-b132-2b396ba3e900",
   "metadata": {},
   "outputs": [],
   "source": [
    "df = pd.read_csv('../data/processed/casas.csv')"
   ]
  },
  {
   "cell_type": "code",
   "execution_count": 3,
   "id": "b9797458-1f28-4aaf-a9bf-c9c30e4b2213",
   "metadata": {},
   "outputs": [
    {
     "data": {
      "text/html": [
       "<div>\n",
       "<style scoped>\n",
       "    .dataframe tbody tr th:only-of-type {\n",
       "        vertical-align: middle;\n",
       "    }\n",
       "\n",
       "    .dataframe tbody tr th {\n",
       "        vertical-align: top;\n",
       "    }\n",
       "\n",
       "    .dataframe thead th {\n",
       "        text-align: right;\n",
       "    }\n",
       "</style>\n",
       "<table border=\"1\" class=\"dataframe\">\n",
       "  <thead>\n",
       "    <tr style=\"text-align: right;\">\n",
       "      <th></th>\n",
       "      <th>tamanho</th>\n",
       "      <th>ano</th>\n",
       "      <th>garagem</th>\n",
       "      <th>preco</th>\n",
       "    </tr>\n",
       "  </thead>\n",
       "  <tbody>\n",
       "    <tr>\n",
       "      <th>0</th>\n",
       "      <td>159.0</td>\n",
       "      <td>2003</td>\n",
       "      <td>2</td>\n",
       "      <td>208500</td>\n",
       "    </tr>\n",
       "    <tr>\n",
       "      <th>1</th>\n",
       "      <td>117.0</td>\n",
       "      <td>1976</td>\n",
       "      <td>2</td>\n",
       "      <td>181500</td>\n",
       "    </tr>\n",
       "    <tr>\n",
       "      <th>2</th>\n",
       "      <td>166.0</td>\n",
       "      <td>2001</td>\n",
       "      <td>2</td>\n",
       "      <td>223500</td>\n",
       "    </tr>\n",
       "    <tr>\n",
       "      <th>3</th>\n",
       "      <td>160.0</td>\n",
       "      <td>1915</td>\n",
       "      <td>3</td>\n",
       "      <td>140000</td>\n",
       "    </tr>\n",
       "    <tr>\n",
       "      <th>4</th>\n",
       "      <td>204.0</td>\n",
       "      <td>2000</td>\n",
       "      <td>3</td>\n",
       "      <td>250000</td>\n",
       "    </tr>\n",
       "  </tbody>\n",
       "</table>\n",
       "</div>"
      ],
      "text/plain": [
       "   tamanho   ano  garagem   preco\n",
       "0    159.0  2003        2  208500\n",
       "1    117.0  1976        2  181500\n",
       "2    166.0  2001        2  223500\n",
       "3    160.0  1915        3  140000\n",
       "4    204.0  2000        3  250000"
      ]
     },
     "execution_count": 3,
     "metadata": {},
     "output_type": "execute_result"
    }
   ],
   "source": [
    "df.head()"
   ]
  },
  {
   "cell_type": "code",
   "execution_count": 4,
   "id": "1ba472eb-366e-44a9-9397-f7c766575fd1",
   "metadata": {},
   "outputs": [],
   "source": [
    "X = df.drop('preco',axis=1)\n",
    "y = df['preco'].copy()"
   ]
  },
  {
   "cell_type": "code",
   "execution_count": 5,
   "id": "b721c8e5-5144-4859-b02f-234e83a79348",
   "metadata": {},
   "outputs": [
    {
     "data": {
      "text/html": [
       "<div>\n",
       "<style scoped>\n",
       "    .dataframe tbody tr th:only-of-type {\n",
       "        vertical-align: middle;\n",
       "    }\n",
       "\n",
       "    .dataframe tbody tr th {\n",
       "        vertical-align: top;\n",
       "    }\n",
       "\n",
       "    .dataframe thead th {\n",
       "        text-align: right;\n",
       "    }\n",
       "</style>\n",
       "<table border=\"1\" class=\"dataframe\">\n",
       "  <thead>\n",
       "    <tr style=\"text-align: right;\">\n",
       "      <th></th>\n",
       "      <th>tamanho</th>\n",
       "      <th>ano</th>\n",
       "      <th>garagem</th>\n",
       "    </tr>\n",
       "  </thead>\n",
       "  <tbody>\n",
       "    <tr>\n",
       "      <th>0</th>\n",
       "      <td>159.0</td>\n",
       "      <td>2003</td>\n",
       "      <td>2</td>\n",
       "    </tr>\n",
       "    <tr>\n",
       "      <th>1</th>\n",
       "      <td>117.0</td>\n",
       "      <td>1976</td>\n",
       "      <td>2</td>\n",
       "    </tr>\n",
       "    <tr>\n",
       "      <th>2</th>\n",
       "      <td>166.0</td>\n",
       "      <td>2001</td>\n",
       "      <td>2</td>\n",
       "    </tr>\n",
       "    <tr>\n",
       "      <th>3</th>\n",
       "      <td>160.0</td>\n",
       "      <td>1915</td>\n",
       "      <td>3</td>\n",
       "    </tr>\n",
       "    <tr>\n",
       "      <th>4</th>\n",
       "      <td>204.0</td>\n",
       "      <td>2000</td>\n",
       "      <td>3</td>\n",
       "    </tr>\n",
       "  </tbody>\n",
       "</table>\n",
       "</div>"
      ],
      "text/plain": [
       "   tamanho   ano  garagem\n",
       "0    159.0  2003        2\n",
       "1    117.0  1976        2\n",
       "2    166.0  2001        2\n",
       "3    160.0  1915        3\n",
       "4    204.0  2000        3"
      ]
     },
     "execution_count": 5,
     "metadata": {},
     "output_type": "execute_result"
    }
   ],
   "source": [
    "X.head()"
   ]
  },
  {
   "cell_type": "code",
   "execution_count": 6,
   "id": "7cf47b01-0856-44be-8bca-6890f48bae6e",
   "metadata": {},
   "outputs": [],
   "source": [
    "from sklearn.model_selection import train_test_split\n",
    "\n",
    "X_train, X_test, y_train, y_test = train_test_split(X, y, test_size=0.3, random_state=42)"
   ]
  },
  {
   "cell_type": "code",
   "execution_count": 7,
   "id": "527e72cb-63f6-465a-942b-343ee326b1b4",
   "metadata": {},
   "outputs": [
    {
     "data": {
      "text/plain": [
       "(1022, 3)"
      ]
     },
     "execution_count": 7,
     "metadata": {},
     "output_type": "execute_result"
    }
   ],
   "source": [
    "X_train.shape"
   ]
  },
  {
   "cell_type": "code",
   "execution_count": 8,
   "id": "e21cecbc-2aa7-4b48-a2bf-1881dbf5eb4e",
   "metadata": {},
   "outputs": [
    {
     "data": {
      "text/plain": [
       "(438, 3)"
      ]
     },
     "execution_count": 8,
     "metadata": {},
     "output_type": "execute_result"
    }
   ],
   "source": [
    "X_test.shape"
   ]
  },
  {
   "cell_type": "code",
   "execution_count": 9,
   "id": "873d342d-88f7-4fcb-9454-0a99220e7677",
   "metadata": {},
   "outputs": [
    {
     "name": "stdout",
     "output_type": "stream",
     "text": [
      "INFO: 'house-prices-eda' does not exist. Creating a new experiment\n"
     ]
    }
   ],
   "source": [
    "mlflow.set_experiment('house-prices-eda')"
   ]
  },
  {
   "cell_type": "code",
   "execution_count": 10,
   "id": "7425c9b8-bf10-45f1-80e9-5488c2fd3ee2",
   "metadata": {},
   "outputs": [
    {
     "data": {
      "text/plain": [
       "<ActiveRun: >"
      ]
     },
     "execution_count": 10,
     "metadata": {},
     "output_type": "execute_result"
    }
   ],
   "source": [
    "mlflow.start_run()"
   ]
  },
  {
   "cell_type": "code",
   "execution_count": 11,
   "id": "e2d41bb4-be3f-493f-9757-2861b01a2a12",
   "metadata": {},
   "outputs": [
    {
     "data": {
      "text/plain": [
       "LinearRegression()"
      ]
     },
     "execution_count": 11,
     "metadata": {},
     "output_type": "execute_result"
    }
   ],
   "source": [
    "from sklearn.linear_model import LinearRegression\n",
    "\n",
    "lr = LinearRegression()\n",
    "lr.fit(X_train, y_train)"
   ]
  },
  {
   "cell_type": "code",
   "execution_count": 12,
   "id": "362f38f1-0a01-4749-a7ce-e3acd04b375c",
   "metadata": {},
   "outputs": [],
   "source": [
    "mlflow.sklearn.log_model(lr,'lr')"
   ]
  },
  {
   "cell_type": "code",
   "execution_count": 13,
   "id": "f9da6211-fc10-418c-bca2-d13992a9412b",
   "metadata": {},
   "outputs": [],
   "source": [
    "lr_predicted = lr.predict(X_test)"
   ]
  },
  {
   "cell_type": "code",
   "execution_count": 14,
   "id": "f1a0f11e-09c6-46f8-8e8b-57e3a2e631ab",
   "metadata": {},
   "outputs": [
    {
     "data": {
      "text/plain": [
       "438"
      ]
     },
     "execution_count": 14,
     "metadata": {},
     "output_type": "execute_result"
    }
   ],
   "source": [
    "len(lr_predicted)"
   ]
  },
  {
   "cell_type": "code",
   "execution_count": 15,
   "id": "631690ab-b3d3-41f4-bff0-cabfddf81df3",
   "metadata": {},
   "outputs": [
    {
     "data": {
      "text/plain": [
       "tamanho      99.0\n",
       "ano        1963.0\n",
       "garagem       1.0\n",
       "Name: 892, dtype: float64"
      ]
     },
     "execution_count": 15,
     "metadata": {},
     "output_type": "execute_result"
    }
   ],
   "source": [
    "X_test.iloc[0]"
   ]
  },
  {
   "cell_type": "code",
   "execution_count": 16,
   "id": "e0dba07c-79a2-4863-ae53-08e874f1d0e1",
   "metadata": {},
   "outputs": [
    {
     "data": {
      "text/plain": [
       "892     154500\n",
       "1105    325000\n",
       "413     115000\n",
       "522     159000\n",
       "1036    315500\n",
       "         ...  \n",
       "331     139000\n",
       "323     126175\n",
       "650     205950\n",
       "439     110000\n",
       "798     485000\n",
       "Name: preco, Length: 438, dtype: int64"
      ]
     },
     "execution_count": 16,
     "metadata": {},
     "output_type": "execute_result"
    }
   ],
   "source": [
    "y_test"
   ]
  },
  {
   "cell_type": "code",
   "execution_count": 17,
   "id": "021b1621-b975-4b47-8319-f4e79d905f2c",
   "metadata": {},
   "outputs": [],
   "source": [
    "from sklearn.metrics import mean_squared_error, r2_score"
   ]
  },
  {
   "cell_type": "code",
   "execution_count": 18,
   "id": "b6fad052-c80b-4fa9-aeaa-332ff1d58aab",
   "metadata": {},
   "outputs": [],
   "source": [
    "import math\n",
    "\n",
    "mse = mean_squared_error(y_test, lr_predicted)\n",
    "rmse =  math.sqrt(mse)\n",
    "r2 = r2_score(y_test, lr_predicted)\n",
    "mlflow.log_metric('mse',mse)\n",
    "mlflow.log_metric('rmse',rmse)\n",
    "mlflow.log_metric('r2',r2)"
   ]
  },
  {
   "cell_type": "code",
   "execution_count": 19,
   "id": "3b12d6d7-2dac-49fc-a7d1-b7ef3a5ad764",
   "metadata": {},
   "outputs": [
    {
     "data": {
      "text/plain": [
       "2078666917.9289908"
      ]
     },
     "execution_count": 19,
     "metadata": {},
     "output_type": "execute_result"
    }
   ],
   "source": [
    "mse"
   ]
  },
  {
   "cell_type": "code",
   "execution_count": 20,
   "id": "dd85d3ca-8fae-49e5-aa2d-c3d761cab79d",
   "metadata": {},
   "outputs": [
    {
     "data": {
      "text/plain": [
       "45592.39978251848"
      ]
     },
     "execution_count": 20,
     "metadata": {},
     "output_type": "execute_result"
    }
   ],
   "source": [
    "rmse"
   ]
  },
  {
   "cell_type": "code",
   "execution_count": 21,
   "id": "24327369-38cd-47e3-b964-1307f387e4eb",
   "metadata": {},
   "outputs": [
    {
     "data": {
      "text/plain": [
       "0.7021153642898048"
      ]
     },
     "execution_count": 21,
     "metadata": {},
     "output_type": "execute_result"
    }
   ],
   "source": [
    "r2"
   ]
  },
  {
   "cell_type": "code",
   "execution_count": 22,
   "id": "3746f231-c5ec-4181-bc07-6f5576038236",
   "metadata": {},
   "outputs": [],
   "source": [
    "mlflow.end_run()"
   ]
  },
  {
   "cell_type": "code",
   "execution_count": 23,
   "id": "970a8287-a266-4e01-877f-3cbf07369815",
   "metadata": {},
   "outputs": [],
   "source": [
    "from xgboost import XGBRFRegressor, XGBRegressor"
   ]
  },
  {
   "cell_type": "code",
   "execution_count": 24,
   "id": "01899fb9-0e2d-46c3-b2c5-03d98908310e",
   "metadata": {},
   "outputs": [
    {
     "name": "stderr",
     "output_type": "stream",
     "text": [
      "/home/dramos/anaconda3/envs/mlflow2/lib/python3.8/site-packages/xgboost/data.py:112: UserWarning: Use subset (sliced data) of np.ndarray is not recommended because it will generate extra copies and increase memory consumption\n",
      "  warnings.warn(\n"
     ]
    }
   ],
   "source": [
    "xgb_params = {\n",
    "    'learning_rate':0.2,\n",
    "    'n_estimators': 50,\n",
    "    'random_state':42\n",
    "}\n",
    "\n",
    "with mlflow.start_run():\n",
    "    xgb = XGBRegressor(**xgb_params)\n",
    "    xgb.fit(X_train, y_train)\n",
    "    mlflow.xgboost.log_model(xgb,'xgboost')\n",
    "    xgb_predicted = xgb.predict(X_test)\n",
    "    mse = mean_squared_error(y_test, xgb_predicted)\n",
    "    rmse =  math.sqrt(mse)\n",
    "    r2 = r2_score(y_test, xgb_predicted)\n",
    "    mlflow.log_metric('mse',mse)\n",
    "    mlflow.log_metric('rmse',rmse)\n",
    "    mlflow.log_metric('r2',r2)"
   ]
  },
  {
   "cell_type": "code",
   "execution_count": 25,
   "id": "800ded62-4fac-495c-890d-63f549497654",
   "metadata": {},
   "outputs": [
    {
     "data": {
      "text/plain": [
       "1386727460.1346002"
      ]
     },
     "execution_count": 25,
     "metadata": {},
     "output_type": "execute_result"
    }
   ],
   "source": [
    "mse"
   ]
  },
  {
   "cell_type": "code",
   "execution_count": 26,
   "id": "8c18f440-0d75-4b9b-b371-f4d41b4bb4ae",
   "metadata": {},
   "outputs": [
    {
     "data": {
      "text/plain": [
       "37238.789724353286"
      ]
     },
     "execution_count": 26,
     "metadata": {},
     "output_type": "execute_result"
    }
   ],
   "source": [
    "rmse"
   ]
  },
  {
   "cell_type": "code",
   "execution_count": 27,
   "id": "c88d378f-89a4-4613-8ecd-4e6b06d78c15",
   "metadata": {},
   "outputs": [
    {
     "data": {
      "text/plain": [
       "0.8012741720529797"
      ]
     },
     "execution_count": 27,
     "metadata": {},
     "output_type": "execute_result"
    }
   ],
   "source": [
    "r2"
   ]
  },
  {
   "cell_type": "code",
   "execution_count": 28,
   "id": "ac405d7a-c06c-4f68-92e2-f0e8d954f4b1",
   "metadata": {},
   "outputs": [
    {
     "data": {
      "text/plain": [
       "<Experiment: artifact_location='file:///mnt/d/Onderive/Particular/onedrive/Projetos/python/mlflow2/mlflow2/notebooks/mlruns/1', experiment_id='1', lifecycle_stage='active', name='house-prices-eda', tags={}>"
      ]
     },
     "execution_count": 28,
     "metadata": {},
     "output_type": "execute_result"
    }
   ],
   "source": [
    "mlflow.get_experiment_by_name('house-prices-eda')"
   ]
  },
  {
   "cell_type": "code",
   "execution_count": 29,
   "id": "9a068959-2040-43bf-b7b3-e54e64ba2d9e",
   "metadata": {},
   "outputs": [
    {
     "data": {
      "text/plain": [
       "[<RunInfo: artifact_uri='file:///mnt/d/Onderive/Particular/onedrive/Projetos/python/mlflow2/mlflow2/notebooks/mlruns/1/12edd5db73b84b5aa8f44248470599fa/artifacts', end_time=1619730171566, experiment_id='1', lifecycle_stage='active', run_id='12edd5db73b84b5aa8f44248470599fa', run_uuid='12edd5db73b84b5aa8f44248470599fa', start_time=1619730168231, status='FINISHED', user_id='dramos'>,\n",
       " <RunInfo: artifact_uri='file:///mnt/d/Onderive/Particular/onedrive/Projetos/python/mlflow2/mlflow2/notebooks/mlruns/1/4e0a4923dfee4914b43f0f648a016b01/artifacts', end_time=1619730164965, experiment_id='1', lifecycle_stage='active', run_id='4e0a4923dfee4914b43f0f648a016b01', run_uuid='4e0a4923dfee4914b43f0f648a016b01', start_time=1619730140286, status='FINISHED', user_id='dramos'>]"
      ]
     },
     "execution_count": 29,
     "metadata": {},
     "output_type": "execute_result"
    }
   ],
   "source": [
    "mlflow.list_run_infos('1')"
   ]
  },
  {
   "cell_type": "code",
   "execution_count": 30,
   "id": "550dea82-9fae-48e6-9846-3b88fe7fdbbf",
   "metadata": {},
   "outputs": [
    {
     "data": {
      "text/plain": [
       "<Run: data=<RunData: metrics={'mse': 1386727460.1346002,\n",
       " 'r2': 0.8012741720529797,\n",
       " 'rmse': 37238.789724353286}, params={}, tags={'mlflow.log-model.history': '[{\"run_id\": \"12edd5db73b84b5aa8f44248470599fa\", '\n",
       "                             '\"artifact_path\": \"xgboost\", \"utc_time_created\": '\n",
       "                             '\"2021-04-29 21:02:51.019341\", \"flavors\": '\n",
       "                             '{\"python_function\": {\"loader_module\": '\n",
       "                             '\"mlflow.xgboost\", \"python_version\": \"3.8.8\", '\n",
       "                             '\"data\": \"model.xgb\", \"env\": \"conda.yaml\"}, '\n",
       "                             '\"xgboost\": {\"xgb_version\": \"1.4.1\", \"data\": '\n",
       "                             '\"model.xgb\"}}}]',\n",
       " 'mlflow.source.name': '/home/dramos/anaconda3/envs/mlflow2/lib/python3.8/site-packages/ipykernel_launcher.py',\n",
       " 'mlflow.source.type': 'LOCAL',\n",
       " 'mlflow.user': 'dramos'}>, info=<RunInfo: artifact_uri='file:///mnt/d/Onderive/Particular/onedrive/Projetos/python/mlflow2/mlflow2/notebooks/mlruns/1/12edd5db73b84b5aa8f44248470599fa/artifacts', end_time=1619730171566, experiment_id='1', lifecycle_stage='active', run_id='12edd5db73b84b5aa8f44248470599fa', run_uuid='12edd5db73b84b5aa8f44248470599fa', start_time=1619730168231, status='FINISHED', user_id='dramos'>>"
      ]
     },
     "execution_count": 30,
     "metadata": {},
     "output_type": "execute_result"
    }
   ],
   "source": [
    "mlflow.get_run('12edd5db73b84b5aa8f44248470599fa')"
   ]
  },
  {
   "cell_type": "code",
   "execution_count": null,
   "id": "5d25cf9d-678a-4470-a7a8-7f7398a5979f",
   "metadata": {},
   "outputs": [],
   "source": []
  }
 ],
 "metadata": {
  "kernelspec": {
   "display_name": "Python 3",
   "language": "python",
   "name": "python3"
  },
  "language_info": {
   "codemirror_mode": {
    "name": "ipython",
    "version": 3
   },
   "file_extension": ".py",
   "mimetype": "text/x-python",
   "name": "python",
   "nbconvert_exporter": "python",
   "pygments_lexer": "ipython3",
   "version": "3.8.8"
  }
 },
 "nbformat": 4,
 "nbformat_minor": 5
}
